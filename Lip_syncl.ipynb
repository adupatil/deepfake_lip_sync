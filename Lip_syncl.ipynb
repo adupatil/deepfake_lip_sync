{
  "nbformat": 4,
  "nbformat_minor": 0,
  "metadata": {
    "colab": {
      "name": "Lip_syncl.ipynb",
      "provenance": [],
      "collapsed_sections": [],
      "include_colab_link": true
    },
    "kernelspec": {
      "name": "python3",
      "display_name": "Python 3"
    },
    "accelerator": "GPU"
  },
  "cells": [
    {
      "cell_type": "markdown",
      "metadata": {
        "id": "view-in-github",
        "colab_type": "text"
      },
      "source": [
        "<a href=\"https://colab.research.google.com/github/adupatil/deepfake_lip_sync/blob/main/Lip_syncl.ipynb\" target=\"_parent\"><img src=\"https://colab.research.google.com/assets/colab-badge.svg\" alt=\"Open In Colab\"/></a>"
      ]
    },
    {
      "cell_type": "markdown",
      "metadata": {
        "id": "vSQFs_G8caeE"
      },
      "source": [
        "# Collab preliminaries"
      ]
    },
    {
      "cell_type": "code",
      "metadata": {
        "id": "XIVB0Xn1g6ih",
        "colab": {
          "base_uri": "https://localhost:8080/"
        },
        "outputId": "09f0b22c-1e50-433d-a55a-7cd635aafc3d"
      },
      "source": [
        "!nvcc --version"
      ],
      "execution_count": 1,
      "outputs": [
        {
          "output_type": "stream",
          "text": [
            "nvcc: NVIDIA (R) Cuda compiler driver\n",
            "Copyright (c) 2005-2020 NVIDIA Corporation\n",
            "Built on Wed_Jul_22_19:09:09_PDT_2020\n",
            "Cuda compilation tools, release 11.0, V11.0.221\n",
            "Build cuda_11.0_bu.TC445_37.28845127_0\n"
          ],
          "name": "stdout"
        }
      ]
    },
    {
      "cell_type": "code",
      "metadata": {
        "id": "qciH4PsUazL_",
        "colab": {
          "base_uri": "https://localhost:8080/"
        },
        "outputId": "b43be0d0-46e0-41b5-bd9e-1042004278bf"
      },
      "source": [
        "\n",
        "from google.colab import drive\n",
        "drive.mount('/content/gdrive')"
      ],
      "execution_count": 2,
      "outputs": [
        {
          "output_type": "stream",
          "text": [
            "Mounted at /content/gdrive\n"
          ],
          "name": "stdout"
        }
      ]
    },
    {
      "cell_type": "markdown",
      "metadata": {
        "id": "yJ5taGmPcWV-"
      },
      "source": [
        "# Get the code and models"
      ]
    },
    {
      "cell_type": "code",
      "metadata": {
        "id": "P3LihClHbUd3",
        "colab": {
          "base_uri": "https://localhost:8080/"
        },
        "outputId": "27c7146d-904d-455b-c14a-03ecddc9e8e3"
      },
      "source": [
        "!git clone https://github.com/Rudrabha/Wav2Lip.git"
      ],
      "execution_count": 3,
      "outputs": [
        {
          "output_type": "stream",
          "text": [
            "Cloning into 'Wav2Lip'...\n",
            "remote: Enumerating objects: 351, done.\u001b[K\n",
            "remote: Counting objects: 100% (13/13), done.\u001b[K\n",
            "remote: Compressing objects: 100% (13/13), done.\u001b[K\n",
            "remote: Total 351 (delta 5), reused 0 (delta 0), pack-reused 338\u001b[K\n",
            "Receiving objects: 100% (351/351), 520.74 KiB | 14.07 MiB/s, done.\n",
            "Resolving deltas: 100% (189/189), done.\n"
          ],
          "name": "stdout"
        }
      ]
    },
    {
      "cell_type": "code",
      "metadata": {
        "id": "y-19nzx8SamJ",
        "colab": {
          "base_uri": "https://localhost:8080/"
        },
        "outputId": "e788c77c-2cc2-48dc-fc44-8f17cbb60697"
      },
      "source": [
        "!ls"
      ],
      "execution_count": 4,
      "outputs": [
        {
          "output_type": "stream",
          "text": [
            "gdrive\tsample_data  Wav2Lip\n"
          ],
          "name": "stdout"
        }
      ]
    },
    {
      "cell_type": "code",
      "metadata": {
        "id": "YjzMPy_Sb0AI"
      },
      "source": [
        "!cp -ri \"/content/gdrive/MyDrive/Wav2lip/wav2lip_gan.pth\" /content/Wav2Lip/checkpoints/"
      ],
      "execution_count": 5,
      "outputs": []
    },
    {
      "cell_type": "markdown",
      "metadata": {
        "id": "aWTaOS3ncFt6"
      },
      "source": [
        "# Get the pre-requisites"
      ]
    },
    {
      "cell_type": "code",
      "metadata": {
        "id": "Ooh28vw-Uvd3",
        "colab": {
          "base_uri": "https://localhost:8080/"
        },
        "outputId": "b359f3b9-f976-474a-e391-a9e72f0e46c6"
      },
      "source": [
        "!pip uninstall tensorflow tensorflow-gpu"
      ],
      "execution_count": 6,
      "outputs": [
        {
          "output_type": "stream",
          "text": [
            "Uninstalling tensorflow-2.5.0:\n",
            "  Would remove:\n",
            "    /usr/local/bin/estimator_ckpt_converter\n",
            "    /usr/local/bin/import_pb_to_tensorboard\n",
            "    /usr/local/bin/saved_model_cli\n",
            "    /usr/local/bin/tensorboard\n",
            "    /usr/local/bin/tf_upgrade_v2\n",
            "    /usr/local/bin/tflite_convert\n",
            "    /usr/local/bin/toco\n",
            "    /usr/local/bin/toco_from_protos\n",
            "    /usr/local/lib/python3.7/dist-packages/tensorflow-2.5.0.dist-info/*\n",
            "    /usr/local/lib/python3.7/dist-packages/tensorflow/*\n",
            "Proceed (y/n)? y\n",
            "  Successfully uninstalled tensorflow-2.5.0\n",
            "\u001b[33mWARNING: Skipping tensorflow-gpu as it is not installed.\u001b[0m\n"
          ],
          "name": "stdout"
        }
      ]
    },
    {
      "cell_type": "code",
      "metadata": {
        "id": "49dCYlLdcK2D",
        "colab": {
          "base_uri": "https://localhost:8080/"
        },
        "outputId": "3a4fcacc-57bb-413e-98bb-cc30681ec1c8"
      },
      "source": [
        "!cd Wav2Lip && pip install -r requirements.txt"
      ],
      "execution_count": 7,
      "outputs": [
        {
          "output_type": "stream",
          "text": [
            "Collecting librosa==0.7.0\n",
            "\u001b[?25l  Downloading https://files.pythonhosted.org/packages/ad/6e/0eb0de1c9c4e02df0b40e56f258eb79bd957be79b918511a184268e01720/librosa-0.7.0.tar.gz (1.6MB)\n",
            "\u001b[K     |████████████████████████████████| 1.6MB 7.5MB/s \n",
            "\u001b[?25hCollecting numpy==1.17.1\n",
            "\u001b[?25l  Downloading https://files.pythonhosted.org/packages/25/eb/4ecf6b13897391cb07a4231e9d9c671b55dfbbf6f4a514a1a0c594f2d8d9/numpy-1.17.1-cp37-cp37m-manylinux1_x86_64.whl (20.3MB)\n",
            "\u001b[K     |████████████████████████████████| 20.3MB 7.4MB/s \n",
            "\u001b[?25hCollecting opencv-contrib-python>=4.2.0.34\n",
            "\u001b[?25l  Downloading https://files.pythonhosted.org/packages/27/f5/21227eb87cd5990a0f4235d8264db7d8f62f6a9ccbf2cd2c367f7d903cd2/opencv_contrib_python-4.5.2.54-cp37-cp37m-manylinux2014_x86_64.whl (57.4MB)\n",
            "\u001b[K     |████████████████████████████████| 57.4MB 1.2MB/s \n",
            "\u001b[?25hCollecting opencv-python==4.1.0.25\n",
            "\u001b[?25l  Downloading https://files.pythonhosted.org/packages/de/52/61b9619a7a95a8d809515f68f1441224a07ce1873fd3af5e662851014a55/opencv_python-4.1.0.25-cp37-cp37m-manylinux1_x86_64.whl (26.6MB)\n",
            "\u001b[K     |████████████████████████████████| 26.6MB 116kB/s \n",
            "\u001b[?25hCollecting torch==1.1.0\n",
            "\u001b[?25l  Downloading https://files.pythonhosted.org/packages/ac/23/a4b5c189dd624411ec84613b717594a00480282b949e3448d189c4aa4e47/torch-1.1.0-cp37-cp37m-manylinux1_x86_64.whl (676.9MB)\n",
            "\u001b[K     |████████████████████████████████| 676.9MB 26kB/s \n",
            "\u001b[?25hCollecting torchvision==0.3.0\n",
            "\u001b[?25l  Downloading https://files.pythonhosted.org/packages/cc/9b/208f48d5a5013bdb0c27a84a02df4fcf5fd24ab5902667c11e554a12b681/torchvision-0.3.0-cp37-cp37m-manylinux1_x86_64.whl (2.6MB)\n",
            "\u001b[K     |████████████████████████████████| 2.6MB 36.3MB/s \n",
            "\u001b[?25hCollecting tqdm==4.45.0\n",
            "\u001b[?25l  Downloading https://files.pythonhosted.org/packages/4a/1c/6359be64e8301b84160f6f6f7936bbfaaa5e9a4eab6cbc681db07600b949/tqdm-4.45.0-py2.py3-none-any.whl (60kB)\n",
            "\u001b[K     |████████████████████████████████| 61kB 9.7MB/s \n",
            "\u001b[?25hCollecting numba==0.48\n",
            "\u001b[?25l  Downloading https://files.pythonhosted.org/packages/39/dc/5ce4a94d98e8a31cab21b150e23ca2f09a7dd354c06a69f71801ecd890db/numba-0.48.0-1-cp37-cp37m-manylinux2014_x86_64.whl (3.5MB)\n",
            "\u001b[K     |████████████████████████████████| 3.6MB 56.6MB/s \n",
            "\u001b[?25hRequirement already satisfied: audioread>=2.0.0 in /usr/local/lib/python3.7/dist-packages (from librosa==0.7.0->-r requirements.txt (line 1)) (2.1.9)\n",
            "Requirement already satisfied: scipy>=1.0.0 in /usr/local/lib/python3.7/dist-packages (from librosa==0.7.0->-r requirements.txt (line 1)) (1.4.1)\n",
            "Requirement already satisfied: scikit-learn!=0.19.0,>=0.14.0 in /usr/local/lib/python3.7/dist-packages (from librosa==0.7.0->-r requirements.txt (line 1)) (0.22.2.post1)\n",
            "Requirement already satisfied: joblib>=0.12 in /usr/local/lib/python3.7/dist-packages (from librosa==0.7.0->-r requirements.txt (line 1)) (1.0.1)\n",
            "Requirement already satisfied: decorator>=3.0.0 in /usr/local/lib/python3.7/dist-packages (from librosa==0.7.0->-r requirements.txt (line 1)) (4.4.2)\n",
            "Requirement already satisfied: six>=1.3 in /usr/local/lib/python3.7/dist-packages (from librosa==0.7.0->-r requirements.txt (line 1)) (1.15.0)\n",
            "Requirement already satisfied: resampy>=0.2.0 in /usr/local/lib/python3.7/dist-packages (from librosa==0.7.0->-r requirements.txt (line 1)) (0.2.2)\n",
            "Requirement already satisfied: soundfile>=0.9.0 in /usr/local/lib/python3.7/dist-packages (from librosa==0.7.0->-r requirements.txt (line 1)) (0.10.3.post1)\n",
            "Requirement already satisfied: pillow>=4.1.1 in /usr/local/lib/python3.7/dist-packages (from torchvision==0.3.0->-r requirements.txt (line 6)) (7.1.2)\n",
            "Collecting llvmlite<0.32.0,>=0.31.0dev0\n",
            "\u001b[?25l  Downloading https://files.pythonhosted.org/packages/a0/10/d02c0ac683fc47ecda3426249509cf771d748b6a2c0e9d5ebbee76a7b80a/llvmlite-0.31.0-cp37-cp37m-manylinux1_x86_64.whl (20.2MB)\n",
            "\u001b[K     |████████████████████████████████| 20.2MB 1.4MB/s \n",
            "\u001b[?25hRequirement already satisfied: setuptools in /usr/local/lib/python3.7/dist-packages (from numba==0.48->-r requirements.txt (line 8)) (57.0.0)\n",
            "Requirement already satisfied: cffi>=1.0 in /usr/local/lib/python3.7/dist-packages (from soundfile>=0.9.0->librosa==0.7.0->-r requirements.txt (line 1)) (1.14.5)\n",
            "Requirement already satisfied: pycparser in /usr/local/lib/python3.7/dist-packages (from cffi>=1.0->soundfile>=0.9.0->librosa==0.7.0->-r requirements.txt (line 1)) (2.20)\n",
            "Building wheels for collected packages: librosa\n",
            "  Building wheel for librosa (setup.py) ... \u001b[?25l\u001b[?25hdone\n",
            "  Created wheel for librosa: filename=librosa-0.7.0-cp37-none-any.whl size=1598360 sha256=358f203fc4aeb18dd2575b9f25fbdd83ee15339f2887d52fa838bbaa3c8c84e9\n",
            "  Stored in directory: /root/.cache/pip/wheels/49/1d/38/c8ad12fcad67569d8e730c3275be5e581bd589558484a0f881\n",
            "Successfully built librosa\n",
            "\u001b[31mERROR: kapre 0.3.5 requires tensorflow>=2.0.0, which is not installed.\u001b[0m\n",
            "\u001b[31mERROR: torchtext 0.10.0 has requirement torch==1.9.0, but you'll have torch 1.1.0 which is incompatible.\u001b[0m\n",
            "\u001b[31mERROR: kapre 0.3.5 has requirement librosa>=0.7.2, but you'll have librosa 0.7.0 which is incompatible.\u001b[0m\n",
            "\u001b[31mERROR: kapre 0.3.5 has requirement numpy>=1.18.5, but you'll have numpy 1.17.1 which is incompatible.\u001b[0m\n",
            "\u001b[31mERROR: datascience 0.10.6 has requirement folium==0.2.1, but you'll have folium 0.8.3 which is incompatible.\u001b[0m\n",
            "\u001b[31mERROR: albumentations 0.1.12 has requirement imgaug<0.2.7,>=0.2.5, but you'll have imgaug 0.2.9 which is incompatible.\u001b[0m\n",
            "Installing collected packages: numpy, llvmlite, numba, librosa, opencv-contrib-python, opencv-python, torch, torchvision, tqdm\n",
            "  Found existing installation: numpy 1.19.5\n",
            "    Uninstalling numpy-1.19.5:\n",
            "      Successfully uninstalled numpy-1.19.5\n",
            "  Found existing installation: llvmlite 0.34.0\n",
            "    Uninstalling llvmlite-0.34.0:\n",
            "      Successfully uninstalled llvmlite-0.34.0\n",
            "  Found existing installation: numba 0.51.2\n",
            "    Uninstalling numba-0.51.2:\n",
            "      Successfully uninstalled numba-0.51.2\n",
            "  Found existing installation: librosa 0.8.1\n",
            "    Uninstalling librosa-0.8.1:\n",
            "      Successfully uninstalled librosa-0.8.1\n",
            "  Found existing installation: opencv-contrib-python 4.1.2.30\n",
            "    Uninstalling opencv-contrib-python-4.1.2.30:\n",
            "      Successfully uninstalled opencv-contrib-python-4.1.2.30\n",
            "  Found existing installation: opencv-python 4.1.2.30\n",
            "    Uninstalling opencv-python-4.1.2.30:\n",
            "      Successfully uninstalled opencv-python-4.1.2.30\n",
            "  Found existing installation: torch 1.9.0+cu102\n",
            "    Uninstalling torch-1.9.0+cu102:\n",
            "      Successfully uninstalled torch-1.9.0+cu102\n",
            "  Found existing installation: torchvision 0.10.0+cu102\n",
            "    Uninstalling torchvision-0.10.0+cu102:\n",
            "      Successfully uninstalled torchvision-0.10.0+cu102\n",
            "  Found existing installation: tqdm 4.41.1\n",
            "    Uninstalling tqdm-4.41.1:\n",
            "      Successfully uninstalled tqdm-4.41.1\n",
            "Successfully installed librosa-0.7.0 llvmlite-0.31.0 numba-0.48.0 numpy-1.17.1 opencv-contrib-python-4.5.2.54 opencv-python-4.1.0.25 torch-1.1.0 torchvision-0.3.0 tqdm-4.45.0\n"
          ],
          "name": "stdout"
        }
      ]
    },
    {
      "cell_type": "code",
      "metadata": {
        "id": "ey_bN4M6X_95",
        "colab": {
          "base_uri": "https://localhost:8080/"
        },
        "outputId": "dd40ced6-0898-4cbb-a4ee-e6bb25065b54"
      },
      "source": [
        "!wget \"https://www.adrianbulat.com/downloads/python-fan/s3fd-619a316812.pth\" -O \"Wav2Lip/face_detection/detection/sfd/s3fd.pth\""
      ],
      "execution_count": 8,
      "outputs": [
        {
          "output_type": "stream",
          "text": [
            "--2021-07-10 14:40:01--  https://www.adrianbulat.com/downloads/python-fan/s3fd-619a316812.pth\n",
            "Resolving www.adrianbulat.com (www.adrianbulat.com)... 45.136.29.207\n",
            "Connecting to www.adrianbulat.com (www.adrianbulat.com)|45.136.29.207|:443... connected.\n",
            "HTTP request sent, awaiting response... 200 OK\n",
            "Length: 89843225 (86M) [application/octet-stream]\n",
            "Saving to: ‘Wav2Lip/face_detection/detection/sfd/s3fd.pth’\n",
            "\n",
            "Wav2Lip/face_detect 100%[===================>]  85.68M  19.5MB/s    in 5.2s    \n",
            "\n",
            "2021-07-10 14:40:08 (16.6 MB/s) - ‘Wav2Lip/face_detection/detection/sfd/s3fd.pth’ saved [89843225/89843225]\n",
            "\n"
          ],
          "name": "stdout"
        }
      ]
    },
    {
      "cell_type": "markdown",
      "metadata": {
        "id": "qdIQfY2Kswcb"
      },
      "source": [
        "# Now lets try!"
      ]
    },
    {
      "cell_type": "code",
      "metadata": {
        "id": "KoVGMtjRZfeR",
        "colab": {
          "base_uri": "https://localhost:8080/"
        },
        "outputId": "173cb016-c9f0-473d-aab6-b9227ea5478b"
      },
      "source": [
        "!cp \"/content/gdrive/My Drive/Wav2Lip/mona1min.mp4\" \"/content/gdrive/My Drive/Wav2Lip/preamble.wav\" sample_data/\n",
        "!ls sample_data/"
      ],
      "execution_count": 14,
      "outputs": [
        {
          "output_type": "stream",
          "text": [
            "anscombe.json\t\t      mnist_test.csv\t     preamble.wav\n",
            "california_housing_test.csv   mnist_train_small.csv  README.md\n",
            "california_housing_train.csv  mona1min.mp4\n"
          ],
          "name": "stdout"
        }
      ]
    },
    {
      "cell_type": "code",
      "metadata": {
        "id": "jR5utmDMcSZY",
        "colab": {
          "base_uri": "https://localhost:8080/"
        },
        "outputId": "24fc5f69-9513-45bb-8203-6121474eb4bb"
      },
      "source": [
        "!cd Wav2Lip && python inference.py --checkpoint_path checkpoints/wav2lip_gan.pth --face \"../sample_data/mona1min.mp4\" --audio \"../sample_data/preamble.wav\""
      ],
      "execution_count": 15,
      "outputs": [
        {
          "output_type": "stream",
          "text": [
            "Using cuda for inference.\n",
            "Reading video frames...\n",
            "Number of frames available for inference: 2398\n",
            "(80, 1528)\n",
            "Length of mel chunks: 568\n",
            "  0% 0/5 [00:00<?, ?it/s]\n",
            "  0% 0/36 [00:00<?, ?it/s]\u001b[ATHCudaCheck FAIL file=/pytorch/aten/src/THC/THCGeneral.cpp line=383 error=11 : invalid argument\n",
            "  0% 0/36 [00:00<?, ?it/s]\n",
            "Recovering from OOM error; New batch size: 8\n",
            "\n",
            "  0% 0/71 [00:00<?, ?it/s]\u001b[A\n",
            "  1% 1/71 [00:08<09:31,  8.17s/it]\u001b[A\n",
            "  3% 2/71 [00:09<06:58,  6.07s/it]\u001b[A\n",
            "  4% 3/71 [00:10<05:12,  4.60s/it]\u001b[A\n",
            "  6% 4/71 [00:11<03:59,  3.57s/it]\u001b[A\n",
            "  7% 5/71 [00:12<03:07,  2.85s/it]\u001b[A\n",
            "  8% 6/71 [00:14<02:32,  2.35s/it]\u001b[A\n",
            " 10% 7/71 [00:15<02:07,  1.99s/it]\u001b[A\n",
            " 11% 8/71 [00:16<01:49,  1.75s/it]\u001b[A\n",
            " 13% 9/71 [00:17<01:37,  1.57s/it]\u001b[A\n",
            " 14% 10/71 [00:18<01:28,  1.45s/it]\u001b[A\n",
            " 15% 11/71 [00:19<01:21,  1.37s/it]\u001b[A\n",
            " 17% 12/71 [00:21<01:17,  1.31s/it]\u001b[A\n",
            " 18% 13/71 [00:22<01:13,  1.27s/it]\u001b[A\n",
            " 20% 14/71 [00:23<01:10,  1.24s/it]\u001b[A\n",
            " 21% 15/71 [00:24<01:08,  1.22s/it]\u001b[A\n",
            " 23% 16/71 [00:25<01:06,  1.20s/it]\u001b[A\n",
            " 24% 17/71 [00:26<01:04,  1.20s/it]\u001b[A\n",
            " 25% 18/71 [00:28<01:03,  1.19s/it]\u001b[A\n",
            " 27% 19/71 [00:29<01:01,  1.19s/it]\u001b[A\n",
            " 28% 20/71 [00:30<01:00,  1.19s/it]\u001b[A\n",
            " 30% 21/71 [00:31<00:59,  1.19s/it]\u001b[A\n",
            " 31% 22/71 [00:32<00:58,  1.18s/it]\u001b[A\n",
            " 32% 23/71 [00:33<00:56,  1.19s/it]\u001b[A\n",
            " 34% 24/71 [00:35<00:55,  1.18s/it]\u001b[A\n",
            " 35% 25/71 [00:36<00:54,  1.19s/it]\u001b[A\n",
            " 37% 26/71 [00:37<00:53,  1.19s/it]\u001b[A\n",
            " 38% 27/71 [00:38<00:52,  1.19s/it]\u001b[A\n",
            " 39% 28/71 [00:39<00:50,  1.19s/it]\u001b[A\n",
            " 41% 29/71 [00:41<00:49,  1.19s/it]\u001b[A\n",
            " 42% 30/71 [00:42<00:48,  1.19s/it]\u001b[A\n",
            " 44% 31/71 [00:43<00:47,  1.19s/it]\u001b[A\n",
            " 45% 32/71 [00:44<00:46,  1.19s/it]\u001b[A\n",
            " 46% 33/71 [00:45<00:45,  1.19s/it]\u001b[A\n",
            " 48% 34/71 [00:47<00:44,  1.19s/it]\u001b[A\n",
            " 49% 35/71 [00:48<00:42,  1.19s/it]\u001b[A\n",
            " 51% 36/71 [00:49<00:41,  1.19s/it]\u001b[A\n",
            " 52% 37/71 [00:50<00:40,  1.19s/it]\u001b[A\n",
            " 54% 38/71 [00:51<00:39,  1.20s/it]\u001b[A\n",
            " 55% 39/71 [00:53<00:38,  1.20s/it]\u001b[A\n",
            " 56% 40/71 [00:54<00:37,  1.20s/it]\u001b[A\n",
            " 58% 41/71 [00:55<00:35,  1.20s/it]\u001b[A\n",
            " 59% 42/71 [00:56<00:34,  1.20s/it]\u001b[A\n",
            " 61% 43/71 [00:57<00:33,  1.20s/it]\u001b[A\n",
            " 62% 44/71 [00:59<00:32,  1.20s/it]\u001b[A\n",
            " 63% 45/71 [01:00<00:31,  1.20s/it]\u001b[A\n",
            " 65% 46/71 [01:01<00:29,  1.20s/it]\u001b[A\n",
            " 66% 47/71 [01:02<00:28,  1.20s/it]\u001b[A\n",
            " 68% 48/71 [01:03<00:27,  1.20s/it]\u001b[A\n",
            " 69% 49/71 [01:05<00:26,  1.21s/it]\u001b[A\n",
            " 70% 50/71 [01:06<00:25,  1.21s/it]\u001b[A\n",
            " 72% 51/71 [01:07<00:24,  1.21s/it]\u001b[A\n",
            " 73% 52/71 [01:08<00:23,  1.21s/it]\u001b[A\n",
            " 75% 53/71 [01:09<00:21,  1.21s/it]\u001b[A\n",
            " 76% 54/71 [01:11<00:20,  1.21s/it]\u001b[A\n",
            " 77% 55/71 [01:12<00:19,  1.21s/it]\u001b[A\n",
            " 79% 56/71 [01:13<00:18,  1.21s/it]\u001b[A\n",
            " 80% 57/71 [01:14<00:17,  1.22s/it]\u001b[A\n",
            " 82% 58/71 [01:16<00:15,  1.22s/it]\u001b[A\n",
            " 83% 59/71 [01:17<00:14,  1.22s/it]\u001b[A\n",
            " 85% 60/71 [01:18<00:13,  1.22s/it]\u001b[A\n",
            " 86% 61/71 [01:19<00:12,  1.21s/it]\u001b[A\n",
            " 87% 62/71 [01:20<00:10,  1.22s/it]\u001b[A\n",
            " 89% 63/71 [01:22<00:09,  1.22s/it]\u001b[A\n",
            " 90% 64/71 [01:23<00:08,  1.22s/it]\u001b[A\n",
            " 92% 65/71 [01:24<00:07,  1.22s/it]\u001b[A\n",
            " 93% 66/71 [01:25<00:06,  1.22s/it]\u001b[A\n",
            " 94% 67/71 [01:27<00:04,  1.23s/it]\u001b[A\n",
            " 96% 68/71 [01:28<00:03,  1.23s/it]\u001b[A\n",
            " 97% 69/71 [01:29<00:02,  1.23s/it]\u001b[A\n",
            " 99% 70/71 [01:30<00:01,  1.23s/it]\u001b[A\n",
            "100% 71/71 [01:31<00:00,  1.29s/it]\n",
            "Load checkpoint from: checkpoints/wav2lip_gan.pth\n",
            "Model loaded\n",
            "100% 5/5 [02:02<00:00, 24.54s/it]\n",
            "ffmpeg version 3.4.8-0ubuntu0.2 Copyright (c) 2000-2020 the FFmpeg developers\n",
            "  built with gcc 7 (Ubuntu 7.5.0-3ubuntu1~18.04)\n",
            "  configuration: --prefix=/usr --extra-version=0ubuntu0.2 --toolchain=hardened --libdir=/usr/lib/x86_64-linux-gnu --incdir=/usr/include/x86_64-linux-gnu --enable-gpl --disable-stripping --enable-avresample --enable-avisynth --enable-gnutls --enable-ladspa --enable-libass --enable-libbluray --enable-libbs2b --enable-libcaca --enable-libcdio --enable-libflite --enable-libfontconfig --enable-libfreetype --enable-libfribidi --enable-libgme --enable-libgsm --enable-libmp3lame --enable-libmysofa --enable-libopenjpeg --enable-libopenmpt --enable-libopus --enable-libpulse --enable-librubberband --enable-librsvg --enable-libshine --enable-libsnappy --enable-libsoxr --enable-libspeex --enable-libssh --enable-libtheora --enable-libtwolame --enable-libvorbis --enable-libvpx --enable-libwavpack --enable-libwebp --enable-libx265 --enable-libxml2 --enable-libxvid --enable-libzmq --enable-libzvbi --enable-omx --enable-openal --enable-opengl --enable-sdl2 --enable-libdc1394 --enable-libdrm --enable-libiec61883 --enable-chromaprint --enable-frei0r --enable-libopencv --enable-libx264 --enable-shared\n",
            "  libavutil      55. 78.100 / 55. 78.100\n",
            "  libavcodec     57.107.100 / 57.107.100\n",
            "  libavformat    57. 83.100 / 57. 83.100\n",
            "  libavdevice    57. 10.100 / 57. 10.100\n",
            "  libavfilter     6.107.100 /  6.107.100\n",
            "  libavresample   3.  7.  0 /  3.  7.  0\n",
            "  libswscale      4.  8.100 /  4.  8.100\n",
            "  libswresample   2.  9.100 /  2.  9.100\n",
            "  libpostproc    54.  7.100 / 54.  7.100\n",
            "\u001b[0;33mGuessed Channel Layout for Input Stream #0.0 : mono\n",
            "\u001b[0mInput #0, wav, from '../sample_data/preamble.wav':\n",
            "  Duration: 00:00:19.10, bitrate: 352 kb/s\n",
            "    Stream #0:0: Audio: pcm_s16le ([1][0][0][0] / 0x0001), 22050 Hz, mono, s16, 352 kb/s\n",
            "Input #1, avi, from 'temp/result.avi':\n",
            "  Metadata:\n",
            "    encoder         : Lavf58.26.101\n",
            "  Duration: 00:00:18.95, start: 0.000000, bitrate: 2121 kb/s\n",
            "    Stream #1:0: Video: mpeg4 (Simple Profile) (DIVX / 0x58564944), yuv420p, 1280x720 [SAR 1:1 DAR 16:9], 2116 kb/s, 29.97 fps, 29.97 tbr, 29.97 tbn, 2997 tbc\n",
            "Stream mapping:\n",
            "  Stream #1:0 -> #0:0 (mpeg4 (native) -> h264 (libx264))\n",
            "  Stream #0:0 -> #0:1 (pcm_s16le (native) -> aac (native))\n",
            "Press [q] to stop, [?] for help\n",
            "\u001b[1;36m[libx264 @ 0x55dd693e6a00] \u001b[0m\u001b[0;33m-qscale is ignored, -crf is recommended.\n",
            "\u001b[0m\u001b[1;36m[libx264 @ 0x55dd693e6a00] \u001b[0musing SAR=1/1\n",
            "\u001b[1;36m[libx264 @ 0x55dd693e6a00] \u001b[0musing cpu capabilities: MMX2 SSE2Fast SSSE3 SSE4.2 AVX FMA3 BMI2 AVX2\n",
            "\u001b[1;36m[libx264 @ 0x55dd693e6a00] \u001b[0mprofile High, level 3.1\n",
            "\u001b[1;36m[libx264 @ 0x55dd693e6a00] \u001b[0m264 - core 152 r2854 e9a5903 - H.264/MPEG-4 AVC codec - Copyleft 2003-2017 - http://www.videolan.org/x264.html - options: cabac=1 ref=3 deblock=1:0:0 analyse=0x3:0x113 me=hex subme=7 psy=1 psy_rd=1.00:0.00 mixed_ref=1 me_range=16 chroma_me=1 trellis=1 8x8dct=1 cqm=0 deadzone=21,11 fast_pskip=1 chroma_qp_offset=-2 threads=3 lookahead_threads=1 sliced_threads=0 nr=0 decimate=1 interlaced=0 bluray_compat=0 constrained_intra=0 bframes=3 b_pyramid=2 b_adapt=1 b_bias=0 direct=1 weightb=1 open_gop=0 weightp=2 keyint=250 keyint_min=25 scenecut=40 intra_refresh=0 rc_lookahead=40 rc=crf mbtree=1 crf=23.0 qcomp=0.60 qpmin=0 qpmax=69 qpstep=4 ip_ratio=1.40 aq=1:1.00\n",
            "Output #0, mp4, to 'results/result_voice.mp4':\n",
            "  Metadata:\n",
            "    encoder         : Lavf57.83.100\n",
            "    Stream #0:0: Video: h264 (libx264) (avc1 / 0x31637661), yuv420p(progressive), 1280x720 [SAR 1:1 DAR 16:9], q=-1--1, 29.97 fps, 30k tbn, 29.97 tbc\n",
            "    Metadata:\n",
            "      encoder         : Lavc57.107.100 libx264\n",
            "    Side data:\n",
            "      cpb: bitrate max/min/avg: 0/0/0 buffer size: 0 vbv_delay: -1\n",
            "    Stream #0:1: Audio: aac (LC) (mp4a / 0x6134706D), 22050 Hz, mono, fltp, 69 kb/s\n",
            "    Metadata:\n",
            "      encoder         : Lavc57.107.100 aac\n",
            "frame=  568 fps= 46 q=-1.0 Lsize=    1117kB time=00:00:19.13 bitrate= 478.3kbits/s speed=1.55x    \n",
            "video:922kB audio:178kB subtitle:0kB other streams:0kB global headers:0kB muxing overhead: 1.503202%\n",
            "\u001b[1;36m[libx264 @ 0x55dd693e6a00] \u001b[0mframe I:3     Avg QP:16.42  size:104646\n",
            "\u001b[1;36m[libx264 @ 0x55dd693e6a00] \u001b[0mframe P:153   Avg QP:18.86  size:  3345\n",
            "\u001b[1;36m[libx264 @ 0x55dd693e6a00] \u001b[0mframe B:412   Avg QP:30.12  size:   287\n",
            "\u001b[1;36m[libx264 @ 0x55dd693e6a00] \u001b[0mconsecutive B-frames:  1.2%  5.6%  1.6% 91.5%\n",
            "\u001b[1;36m[libx264 @ 0x55dd693e6a00] \u001b[0mmb I  I16..4:  1.5% 97.8%  0.7%\n",
            "\u001b[1;36m[libx264 @ 0x55dd693e6a00] \u001b[0mmb P  I16..4:  0.1%  0.7%  0.0%  P16..4: 11.3%  2.0%  2.6%  0.0%  0.0%    skip:83.3%\n",
            "\u001b[1;36m[libx264 @ 0x55dd693e6a00] \u001b[0mmb B  I16..4:  0.0%  0.0%  0.0%  B16..8:  5.6%  0.1%  0.0%  direct: 0.0%  skip:94.2%  L0:42.5% L1:56.4% BI: 1.1%\n",
            "\u001b[1;36m[libx264 @ 0x55dd693e6a00] \u001b[0m8x8 transform intra:94.5% inter:91.0%\n",
            "\u001b[1;36m[libx264 @ 0x55dd693e6a00] \u001b[0mcoded y,uvDC,uvAC intra: 91.3% 84.1% 29.3% inter: 1.9% 2.0% 0.1%\n",
            "\u001b[1;36m[libx264 @ 0x55dd693e6a00] \u001b[0mi16 v,h,dc,p: 15% 16%  2% 66%\n",
            "\u001b[1;36m[libx264 @ 0x55dd693e6a00] \u001b[0mi8 v,h,dc,ddl,ddr,vr,hd,vl,hu: 24% 18% 30%  4%  4%  5%  4%  6%  7%\n",
            "\u001b[1;36m[libx264 @ 0x55dd693e6a00] \u001b[0mi4 v,h,dc,ddl,ddr,vr,hd,vl,hu: 37% 18% 11%  5%  6%  8%  5%  5%  4%\n",
            "\u001b[1;36m[libx264 @ 0x55dd693e6a00] \u001b[0mi8c dc,h,v,p: 38% 24% 28% 11%\n",
            "\u001b[1;36m[libx264 @ 0x55dd693e6a00] \u001b[0mWeighted P-Frames: Y:0.0% UV:0.0%\n",
            "\u001b[1;36m[libx264 @ 0x55dd693e6a00] \u001b[0mref P L0: 74.9%  6.4% 12.5%  6.2%\n",
            "\u001b[1;36m[libx264 @ 0x55dd693e6a00] \u001b[0mref B L0: 85.5% 11.5%  3.0%\n",
            "\u001b[1;36m[libx264 @ 0x55dd693e6a00] \u001b[0mref B L1: 89.4% 10.6%\n",
            "\u001b[1;36m[libx264 @ 0x55dd693e6a00] \u001b[0mkb/s:398.42\n",
            "\u001b[1;36m[aac @ 0x55dd693e8300] \u001b[0mQavg: 1429.322\n"
          ],
          "name": "stdout"
        }
      ]
    },
    {
      "cell_type": "code",
      "metadata": {
        "id": "uNOAZvkszEOw"
      },
      "source": [
        "# use the \"files\" button on the left to download the result in the Wav2Lip/results/ folder."
      ],
      "execution_count": 11,
      "outputs": []
    },
    {
      "cell_type": "markdown",
      "metadata": {
        "id": "d7zgfrQqbKom"
      },
      "source": [
        "## **Variations to try**\n"
      ]
    },
    {
      "cell_type": "markdown",
      "metadata": {
        "id": "0f9A9VDVbZAG"
      },
      "source": [
        "1.   Use more padding to include the chin region"
      ]
    },
    {
      "cell_type": "code",
      "metadata": {
        "id": "45XW4SZAzIz5",
        "colab": {
          "base_uri": "https://localhost:8080/"
        },
        "outputId": "996f0592-0439-4087-a0a3-bd168b208b74"
      },
      "source": [
        "!cd Wav2Lip && python inference.py --checkpoint_path checkpoints/wav2lip_gan.pth --face \"../sampl_data/mona1min.mp4\" --audio \"../sample_data/preamble.wav\" --pads 0 20 0 0"
      ],
      "execution_count": 13,
      "outputs": [
        {
          "output_type": "stream",
          "text": [
            "Using cuda for inference.\n",
            "Traceback (most recent call last):\n",
            "  File \"inference.py\", line 280, in <module>\n",
            "    main()\n",
            "  File \"inference.py\", line 183, in main\n",
            "    raise ValueError('--face argument must be a valid path to video/image file')\n",
            "ValueError: --face argument must be a valid path to video/image file\n"
          ],
          "name": "stdout"
        }
      ]
    },
    {
      "cell_type": "markdown",
      "metadata": {
        "id": "uo-WnsxfbwTG"
      },
      "source": [
        "2.   Use resize_factor to reduce the video resolution, as there is a change you might get better results for lower resolution videos. Why? Because the model was trained on low resolution faces."
      ]
    },
    {
      "cell_type": "code",
      "metadata": {
        "id": "xw0xFtZ2bsx8"
      },
      "source": [
        "!cd Wav2Lip && python inference.py --checkpoint_path checkpoints/wav2lip_gan.pth --face \"../sample_data/input_vid.mp4\" --audio \"../sample_data/input_audio.wav\" --resize_factor 2"
      ],
      "execution_count": null,
      "outputs": []
    }
  ]
}